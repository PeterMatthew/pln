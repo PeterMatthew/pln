{
 "cells": [
  {
   "cell_type": "code",
   "execution_count": 2,
   "id": "0757f1fb",
   "metadata": {},
   "outputs": [
    {
     "name": "stderr",
     "output_type": "stream",
     "text": [
      "[nltk_data] Downloading package stopwords to\n",
      "[nltk_data]     C:\\Users\\pedro\\AppData\\Roaming\\nltk_data...\n",
      "[nltk_data]   Package stopwords is already up-to-date!\n",
      "[nltk_data] Downloading package punkt to\n",
      "[nltk_data]     C:\\Users\\pedro\\AppData\\Roaming\\nltk_data...\n",
      "[nltk_data]   Package punkt is already up-to-date!\n",
      "[nltk_data] Downloading package punkt_tab to\n",
      "[nltk_data]     C:\\Users\\pedro\\AppData\\Roaming\\nltk_data...\n",
      "[nltk_data]   Package punkt_tab is already up-to-date!\n",
      "[nltk_data] Downloading package averaged_perceptron_tagger to\n",
      "[nltk_data]     C:\\Users\\pedro\\AppData\\Roaming\\nltk_data...\n",
      "[nltk_data]   Package averaged_perceptron_tagger is already up-to-\n",
      "[nltk_data]       date!\n",
      "[nltk_data] Downloading package averaged_perceptron_tagger_eng to\n",
      "[nltk_data]     C:\\Users\\pedro\\AppData\\Roaming\\nltk_data...\n",
      "[nltk_data]   Package averaged_perceptron_tagger_eng is already up-to-\n",
      "[nltk_data]       date!\n"
     ]
    },
    {
     "data": {
      "text/plain": [
       "True"
      ]
     },
     "execution_count": 2,
     "metadata": {},
     "output_type": "execute_result"
    }
   ],
   "source": [
    "import re\n",
    "import string\n",
    "import pandas as pd\n",
    "import nltk\n",
    "from sklearn.feature_extraction.text import CountVectorizer, TfidfVectorizer\n",
    "from sklearn.metrics.pairwise import cosine_similarity\n",
    "import numpy as np\n",
    "\n",
    "nltk.download('stopwords')\n",
    "nltk.download('punkt')\n",
    "nltk.download('punkt_tab')\n",
    "nltk.download('averaged_perceptron_tagger')\n",
    "nltk.download('averaged_perceptron_tagger_eng')"
   ]
  },
  {
   "cell_type": "markdown",
   "id": "2dd81b47",
   "metadata": {},
   "source": [
    "1. Escreva uma função que recebe uma senha como entrada e verifica\n",
    "se ela atende aos seguintes critérios de uma senha forte:\n",
    "<br>\n",
    "• Pelo menos 8 caracteres\n",
    "<br>\n",
    "• Pelo menos uma letra maiúsculas e uma letra minúscula\n",
    "<br>\n",
    "• Pelo menos um dígito\n",
    "<br>\n",
    "• Pelo menos um caractere especial (por exemplo, !@#$%&*)\n",
    "<br>\n",
    "\n",
    "A função deve retornar True se a senha for forte e False caso contrário. Mostre exemplos."
   ]
  },
  {
   "cell_type": "code",
   "execution_count": 2,
   "id": "ef235ad8",
   "metadata": {},
   "outputs": [
    {
     "name": "stdout",
     "output_type": "stream",
     "text": [
      "False\n",
      "True\n",
      "False\n",
      "False\n",
      "True\n"
     ]
    }
   ],
   "source": [
    "def password(psw):\n",
    "    if len(psw) >= 8 and re.search(r'[A-Z]', psw) and re.search(r'[a-z]', psw) and re.search(r'\\d', psw) and re.search(r'[!@#$%&*]', psw):\n",
    "        return True\n",
    "    return False\n",
    "\n",
    "print(password(\"yug342%\"))\n",
    "print(password(\"H87avsd$\"))\n",
    "print(password(\"H87avsd\"))\n",
    "print(password(\"h45bAAADSUh\"))\n",
    "print(password(\"h45bAAADSUh%\"))"
   ]
  },
  {
   "cell_type": "markdown",
   "id": "8511e0d3",
   "metadata": {},
   "source": [
    "2. Escreva uma função que recebe um endereço de e-mail como entrada e verifica se ele é válida de acordo com as regras básicas de formação de um e-mail. Utilize expressões regulares para realizar a validação. A função deve retornar True se o endereço de e-mail for válido e False caso contrário.\n",
    "Mostre exemplos."
   ]
  },
  {
   "cell_type": "code",
   "execution_count": 3,
   "id": "0e738b40",
   "metadata": {},
   "outputs": [
    {
     "name": "stdout",
     "output_type": "stream",
     "text": [
      "False\n",
      "True\n",
      "False\n",
      "False\n"
     ]
    }
   ],
   "source": [
    "def is_email_valid(email):\n",
    "    return re.match(r'^[\\w\\.-]+@[\\w\\.-]+\\.[\\w\\.-]', email) is not None\n",
    "\n",
    "print(is_email_valid(\"a-.678sAt_@hotmail\"))\n",
    "print(is_email_valid(\"a-.678sAt_@hotmail.com\"))\n",
    "print(is_email_valid(\"a-.678sAt_hotmail.br\"))\n",
    "print(is_email_valid(\"a-.678sAt_@hotmail.\"))"
   ]
  },
  {
   "cell_type": "markdown",
   "id": "8faa3b41",
   "metadata": {},
   "source": [
    "3. Considere o seguinte exemplo de referência de livro em formato de citação APA:\n",
    "\n",
    "Manning, C. D., Manning, C. D., & Schutze, H. (1999). Foundations of\n",
    "statistical natural language processing. MIT press.\n",
    "\n",
    "Implemente uma função usando expressões regulares que extraia cada autor, ano de publicação, título e editora do livro, para qualquer referência de livro neste formato."
   ]
  },
  {
   "cell_type": "code",
   "execution_count": 4,
   "id": "6814ddcc",
   "metadata": {},
   "outputs": [
    {
     "name": "stdout",
     "output_type": "stream",
     "text": [
      "Autores: ['Manning, C. D.', 'Manning, C. D.', 'Schutze, H.']\n",
      "Ano de publicação: (1999)\n",
      "Título: Foundations of statistical natural language processing\n",
      "Editora do livro: MIT press\n",
      "\n"
     ]
    }
   ],
   "source": [
    "def reference(data):\n",
    "  pattern = r'(?P<authors>[\\w\\s\\.\\,\\&]+) (?P<year>\\(\\d+\\)). (?P<title>(\\w*\\s*)+). (?P<company>(\\w*\\s*)+).'\n",
    "  for x in re.compile(pattern).finditer(data):\n",
    "\n",
    "    temp = re.compile(r'\\w+,\\s[A-Z. ]+').findall(x.group('authors'))\n",
    "    print('Autores:', temp)\n",
    "    print(f'Ano de publicação: {x.group(\"year\")}')\n",
    "    print(f'Título: {x.group(\"title\")}')\n",
    "    print(f'Editora do livro: {x.group(\"company\")}\\n')\n",
    "\n",
    "reference('Manning, C. D., Manning, C. D., & Schutze, H. (1999). Foundations of statistical natural language processing. MIT press.')"
   ]
  },
  {
   "cell_type": "markdown",
   "id": "f54df639",
   "metadata": {},
   "source": [
    "4. Usando sua base de textos, determine a distribuição de comprimentos dos textos (em quantidade de palavras), listando estas quantidades e plotando um histograma."
   ]
  },
  {
   "cell_type": "code",
   "execution_count": 3,
   "id": "41f8d23d",
   "metadata": {},
   "outputs": [
    {
     "name": "stdout",
     "output_type": "stream",
     "text": [
      "[448, 611, 314, 859, 701, 552, 387, 635, 774, 463, 603, 775, 480, 678, 148, 460, 594, 770, 758, 861, 471, 80, 576, 419, 209, 149, 930, 684, 608, 782, 2046, 542, 708, 1, 474, 752, 874, 680, 848, 204, 599, 47, 97, 11, 155, 623, 75, 888, 394, 812, 464, 616, 194, 3714, 123, 822, 136, 341, 925, 673, 105, 735, 635, 118, 787, 940, 852, 865, 675, 315, 694, 668, 715, 993, 1086, 292, 271, 697, 802, 577, 582, 800, 100, 408, 778, 1000, 726, 704, 511, 257, 709, 33, 625, 605, 680, 661, 135, 914, 505, 340, 215, 526, 924, 201, 803, 799, 702, 749, 890, 1, 571, 533, 759, 636, 569, 861, 137, 730, 133, 556, 1136, 565, 614, 809, 1576, 582, 116, 420, 1095, 725, 522, 347, 458, 583, 649, 89, 86, 566, 47, 927, 387, 1840, 763, 147, 742, 791, 787, 201, 142, 545, 583, 680, 856, 1081, 543, 58, 542, 588, 289, 772, 183, 106, 62, 558, 113, 674, 248, 826, 587, 185, 495, 250, 722, 133, 679, 688, 398, 234, 428, 564, 102, 376, 830, 449, 548, 103, 813, 634, 739, 54, 747, 72, 728, 534, 475, 582, 392, 679, 843, 558]\n"
     ]
    }
   ],
   "source": [
    "df = pd.read_csv('archive/data.csv')\n",
    "df = df.dropna(subset=['description'])\n",
    "ch_sizes = [len(x) for x in df['description']]\n",
    "print(ch_sizes[:200])"
   ]
  },
  {
   "cell_type": "code",
   "execution_count": 6,
   "id": "6034c7f7",
   "metadata": {},
   "outputs": [
    {
     "data": {
      "image/png": "[encoded data removed]",
      "text/plain": [
       "<Figure size 640x480 with 1 Axes>"
      ]
     },
     "metadata": {},
     "output_type": "display_data"
    }
   ],
   "source": [
    "df = pd.DataFrame({\n",
    "    'size': ch_sizes,\n",
    "})\n",
    "hist = df.hist(bins=50)"
   ]
  },
  {
   "cell_type": "markdown",
   "id": "fffdd0cd",
   "metadata": {},
   "source": [
    "5. Aplique os seguintes passos de pré-processamento aos textos:\n",
    "<br>\n",
    "• Remova todas as palavras que contém número;\n",
    "<br>\n",
    "• Converta as palavras para minúsculas;\n",
    "<br>\n",
    "• Remova pontuação;\n",
    "<br>\n",
    "• Tokenize os textos em palavras, gerando um dicionário ́unico com n\n",
    "tokens e convertendo cada texto em um vetor de dimensão n com a\n",
    "respectiva contagem de palavras.\n",
    "<br>\n",
    "Em seguida, encontre as 10 palavras mais frequentes da base de textos."
   ]
  },
  {
   "cell_type": "code",
   "execution_count": 7,
   "id": "5d0806ec",
   "metadata": {},
   "outputs": [
    {
     "data": {
      "text/plain": [
       "'round toed black sports shoes with red accents low top styling and central laceups leather upper with stitched detail overlay formstrip and ducati branding on the sides\\xa0and reinforced heel collar with branding soft tongue and inner branding on the tongue cushioned footbed with branding at the heel printed detail at the midsole textured rubber outsole with patterned grooves and branding warranty  months against manufacturing defects only'"
      ]
     },
     "execution_count": 7,
     "metadata": {},
     "output_type": "execute_result"
    }
   ],
   "source": [
    "df = pd.read_csv('archive/data.csv')\n",
    "df = df.dropna(subset=['description'])\n",
    "\n",
    "df['description'] = df['description'].apply(lambda row: re.sub(r'\\d', '', row).lower())\n",
    "df['description'] = df['description'].apply(lambda row: row.translate(str.maketrans('', '', string.punctuation)))\n",
    "df['tokenized'] = df['description'].apply(lambda row: nltk.word_tokenize(row))\n",
    "\n",
    "df['description'][0]"
   ]
  },
  {
   "cell_type": "code",
   "execution_count": 8,
   "id": "08424352",
   "metadata": {},
   "outputs": [
    {
     "data": {
      "text/plain": [
       "FreqDist({'and': 166716, 'the': 156365, 'with': 127680, 'a': 127468, 'for': 73034, 'on': 69236, 'of': 60115, 'in': 59653, 'to': 59279, 'this': 43691, ...})"
      ]
     },
     "execution_count": 8,
     "metadata": {},
     "output_type": "execute_result"
    }
   ],
   "source": [
    "all_words = [y for x in df['tokenized'] for y in x]\n",
    "freq = nltk.FreqDist(all_words)\n",
    "freq"
   ]
  },
  {
   "cell_type": "code",
   "execution_count": 9,
   "id": "f51ee2b2",
   "metadata": {},
   "outputs": [
    {
     "name": "stdout",
     "output_type": "stream",
     "text": [
      "word: and  |  frequency: 166716\n",
      "word: the  |  frequency: 156365\n",
      "word: with  |  frequency: 127680\n",
      "word: a  |  frequency: 127468\n",
      "word: for  |  frequency: 73034\n",
      "word: on  |  frequency: 69236\n",
      "word: of  |  frequency: 60115\n",
      "word: in  |  frequency: 59653\n",
      "word: to  |  frequency: 59279\n",
      "word: this  |  frequency: 43691\n"
     ]
    }
   ],
   "source": [
    "for i, (word, f) in enumerate(freq.most_common(10)):\n",
    "    if i == 10: break\n",
    "    print(f'word: {word}  |  frequency: {f}')"
   ]
  },
  {
   "cell_type": "markdown",
   "id": "5b5c4ee5",
   "metadata": {},
   "source": [
    "6. Aplique os seguintes passos de pré-processamento aos textos processados na questão anterior:\n",
    "<br>\n",
    "• Remova stopwords;\n",
    "<br>\n",
    "• Realize rotulação de POS;\n",
    "<br>\n",
    "• Realize stemização;\n",
    "<br>\n",
    "a) Exiba os resultados em alguns textos.\n",
    "<br>\n",
    "b) Verifique quais são as 10 palavras mais frequentes e compare com as 10 palavras mais frequentes da questão anterior.\n",
    "<br>\n",
    "c) Repita a letra b) usando os tokens stemizados.\n",
    "<br>\n",
    "d) Verifique quais são as classes gramaticais mais frequentes."
   ]
  },
  {
   "cell_type": "code",
   "execution_count": 10,
   "id": "1a0bbfce",
   "metadata": {},
   "outputs": [
    {
     "name": "stdout",
     "output_type": "stream",
     "text": [
      "round toed black sports shoes with red accents low top styling and central laceups leather upper with stitched detail overlay formstrip and ducati branding on the sides and reinforced heel collar with branding soft tongue and inner branding on the tongue cushioned footbed with branding at the heel printed detail at the midsole textured rubber outsole with patterned grooves and branding warranty  months against manufacturing defects only\n"
     ]
    },
    {
     "data": {
      "text/plain": [
       "'round to black sport shoe red accent low top style central laceup leather upper stitch detail overlay formstrip ducati brand side reinforc heel collar brand soft tongu inner brand tongu cushion footb brand heel print detail midsol textur rubber outsol pattern groov brand warranti month manufactur defect'"
      ]
     },
     "execution_count": 10,
     "metadata": {},
     "output_type": "execute_result"
    }
   ],
   "source": [
    "stop_words = set(nltk.corpus.stopwords.words(\"english\"))\n",
    "stemmer = nltk.stem.PorterStemmer()\n",
    "print(df['description'][0])\n",
    "df['description2'] = df['description'].apply(lambda row: [x for x in nltk.word_tokenize(row) if x not in stop_words])\n",
    "df['description2'] = df['description2'].apply(lambda row: [stemmer.stem(x) for x in row])\n",
    "df['description2'] = df['description2'].apply(lambda row: nltk.pos_tag(row))\n",
    "\n",
    "' '.join([x[0] for x in df['description2'][0]])"
   ]
  },
  {
   "cell_type": "code",
   "execution_count": 11,
   "id": "88770703",
   "metadata": {},
   "outputs": [
    {
     "name": "stdout",
     "output_type": "stream",
     "text": [
      "word: and  |  frequency: 166716 ### word2: ('wash', 'NN')  |  frequency2: 37527\n",
      "word: the  |  frequency: 156365 ### word2: ('style', 'NN')  |  frequency2: 36585\n",
      "word: with  |  frequency: 127680 ### word2: ('comfort', 'NN')  |  frequency2: 32130\n",
      "word: a  |  frequency: 127468 ### word2: ('care', 'NN')  |  frequency2: 27729\n",
      "word: for  |  frequency: 73034 ### word2: ('dri', 'NN')  |  frequency2: 24320\n",
      "word: on  |  frequency: 69236 ### word2: ('iron', 'NN')  |  frequency2: 21511\n",
      "word: of  |  frequency: 60115 ### word2: ('model', 'NN')  |  frequency2: 21503\n",
      "word: in  |  frequency: 59653 ### word2: ('brand', 'NN')  |  frequency2: 20109\n",
      "word: to  |  frequency: 59279 ### word2: ('cotton', 'NN')  |  frequency2: 19930\n",
      "word: this  |  frequency: 43691 ### word2: ('detail', 'NN')  |  frequency2: 18758\n"
     ]
    }
   ],
   "source": [
    "all_words = [y for x in df['tokenized'] for y in x]\n",
    "freq = nltk.FreqDist(all_words)\n",
    "\n",
    "all_words2 = [y for x in df['description2'] for y in x]\n",
    "freq2 = nltk.FreqDist(all_words2)\n",
    "\n",
    "for i, (word, f) in enumerate(freq.most_common(10)):\n",
    "    if i == 10: break\n",
    "    print(f'word: {word}  |  frequency: {f} ### word2: {freq2.most_common(10)[i][0]}  |  frequency2: {freq2.most_common(10)[i][1]}')"
   ]
  },
  {
   "cell_type": "code",
   "execution_count": 12,
   "id": "86f6e38b",
   "metadata": {},
   "outputs": [
    {
     "name": "stdout",
     "output_type": "stream",
     "text": [
      "pos: NN  |  frequency: 1706255\n",
      "pos: JJ  |  frequency: 573560\n",
      "pos: VBP  |  frequency: 74287\n",
      "pos: VBD  |  frequency: 69826\n",
      "pos: IN  |  frequency: 44335\n",
      "pos: RB  |  frequency: 38789\n",
      "pos: VB  |  frequency: 32255\n",
      "pos: CD  |  frequency: 25287\n",
      "pos: NNS  |  frequency: 25161\n",
      "pos: JJS  |  frequency: 14359\n"
     ]
    }
   ],
   "source": [
    "pos_freq = nltk.FreqDist(t for w, t in all_words2)\n",
    "\n",
    "for i, (pos, f) in enumerate(pos_freq.most_common(10)):\n",
    "    if i == 10: break\n",
    "    print(f'pos: {pos}  |  frequency: {f}')"
   ]
  },
  {
   "cell_type": "markdown",
   "id": "5d1806ff",
   "metadata": {},
   "source": [
    "7. Escolha 5 documentos da sua base pré-processada, e determine seu\n",
    "documento mais parecido, dentre todos os documentos da base (não pode\n",
    "ser ele mesmo), usando:\n",
    "<br>\n",
    "a) Representação vetorial CountVectorizer com similaridade do cosseno;\n",
    "<br>\n",
    "b) Representação vetorial TF-IDF com similaridade do cosseno.\n",
    "<br>\n",
    "Justifique, para cada par de documentos mais parecidos, porque cada representação considerou o par semelhante."
   ]
  },
  {
   "cell_type": "code",
   "execution_count": 4,
   "id": "4c63d4fd",
   "metadata": {},
   "outputs": [
    {
     "name": "stdout",
     "output_type": "stream",
     "text": [
      "Texto base: composition white navy blue check shirt light blue accents made cotton full arm sleeves midsleeve buttoned flap front buttoned placket pocket left chest embroidered brand logo curved hemline fitting c\n",
      "\n",
      "Texto mais similar (CountVectorizer): style note know loves wearing simple cotton tees thats gini jony styled simple top cutesy design details make look prettier ever mini version pop princess indeed product details pink white striped rou\n",
      "Texto mais similar (TF-IDF): style note know loves wearing simple cotton tees thats gini jony styled simple top cutesy design details make look prettier ever mini version pop princess indeed product details pink white striped rou\n",
      "\n",
      "\n",
      "Texto base: style note man combines style comfort casual shirt peter england collection must buy crafted soft cotton fabric shirt offers exemplary comfort sure become wardrobe favourite pair denims boots thrown b\n",
      "\n",
      "Texto mais similar (CountVectorizer): set free groversons misst moulded bra seamless comfort thatll make feel liberated confident move wish perfect wear tshirts close fitting tops salwar kameez let world try keep made breathable fabric en\n",
      "Texto mais similar (TF-IDF): set free groversons misst moulded bra seamless comfort thatll make feel liberated confident move wish perfect wear tshirts close fitting tops salwar kameez let world try keep made breathable fabric en\n",
      "\n",
      "\n",
      "Texto base: composition white chikankari kurta made cotton ballet wrap neckline tieup left waist three quarter sleeves vented hem fit regular wash care hand wash separately cold water using mild detergent dry sha\n",
      "\n",
      "Texto mais similar (CountVectorizer): flowy multi coloured printed sari overtones red green beige panelling borders\n",
      "Texto mais similar (TF-IDF): flowy multi coloured printed sari overtones red green beige panelling borders\n",
      "\n",
      "\n",
      "Texto base: sporting season back bang cheer favourite sports stars style bandana nike crafted pure cotton sporty embroidered nike swoosh logo bandana sure keep comfortable sweat favourite players width cm care ha\n",
      "\n",
      "Texto mais similar (CountVectorizer): style note updated summer style feet catwalks latest line inspired fresh fashion fetishes season pair shoes exemplify versatility look good everything smart formal day wear breezy spring separates sty\n",
      "Texto mais similar (TF-IDF): style note updated summer style feet catwalks latest line inspired fresh fashion fetishes season pair shoes exemplify versatility look good everything smart formal day wear breezy spring separates sty\n",
      "\n",
      "\n",
      "Texto base: take training next level nike air monarch shoes shoes combine high quality materials sturdy design deliver high performance action team jeans tees cool casual look uppers synthetic leather uppers enha\n",
      "\n",
      "Texto mais similar (CountVectorizer): composition light grey round neck tshirt made cotton ribbed neckline tape inseam half sleeves stretchable fabric flat seams reinforced tear points printed label split hem inseam graphic print front fi\n",
      "Texto mais similar (TF-IDF): composition light grey round neck tshirt made cotton ribbed neckline tape inseam half sleeves stretchable fabric flat seams reinforced tear points printed label split hem inseam graphic print front fi\n",
      "\n",
      "\n"
     ]
    }
   ],
   "source": [
    "df = pd.read_csv('archive/data.csv')\n",
    "df = df.dropna(subset=['description'])\n",
    "\n",
    "stop_words = set(nltk.corpus.stopwords.words(\"english\"))\n",
    "\n",
    "df['description'] = df['description'].apply(lambda row: re.sub(r'\\d', '', row).lower())\n",
    "df['description'] = df['description'].apply(lambda row: row.translate(str.maketrans('', '', string.punctuation)))\n",
    "\n",
    "temp = df['description'].apply(lambda row: [x for x in nltk.word_tokenize(row) if x not in stop_words])\n",
    "df['description'] = temp.apply(lambda x: \" \".join(x))\n",
    "\n",
    "sample = df['description'].sample(5)\n",
    "idxs = sample.index.tolist()\n",
    "\n",
    "count_vec = CountVectorizer()\n",
    "count_matrix = count_vec.fit_transform(df['description'])\n",
    "\n",
    "tfidf_vec = TfidfVectorizer()\n",
    "tfidf_matrix = tfidf_vec.fit_transform(df['description'])\n",
    "\n",
    "for idx in idxs:\n",
    "    print(f'Texto base: {df[\"description\"][idx][:200]}\\n')\n",
    "\n",
    "    similarities = cosine_similarity(count_matrix[idx], count_matrix).flatten()\n",
    "    similarities[idx] = -1\n",
    "    most_similar = np.argmax(similarities)\n",
    "    print(f'Texto mais similar (CountVectorizer): {df[\"description\"][most_similar][:200]}')\n",
    "\n",
    "    similarities = cosine_similarity(tfidf_matrix[idx], tfidf_matrix).flatten()\n",
    "    similarities[idx] = -1\n",
    "    most_similar = np.argmax(similarities)\n",
    "    print(f'Texto mais similar (TF-IDF): {df[\"description\"][most_similar][:200]}\\n\\n')"
   ]
  }
 ],
 "metadata": {
  "kernelspec": {
   "display_name": ".venv",
   "language": "python",
   "name": "python3"
  },
  "language_info": {
   "codemirror_mode": {
    "name": "ipython",
    "version": 3
   },
   "file_extension": ".py",
   "mimetype": "text/x-python",
   "name": "python",
   "nbconvert_exporter": "python",
   "pygments_lexer": "ipython3",
   "version": "3.13.2"
  }
 },
 "nbformat": 4,
 "nbformat_minor": 5
}
